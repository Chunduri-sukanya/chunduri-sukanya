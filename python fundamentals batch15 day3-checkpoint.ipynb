{
 "cells": [
  {
   "cell_type": "code",
   "execution_count": null,
   "metadata": {},
   "outputs": [],
   "source": [
    "#introduction to 'f' strings"
   ]
  },
  {
   "cell_type": "code",
   "execution_count": 10,
   "metadata": {},
   "outputs": [
    {
     "name": "stdout",
     "output_type": "stream",
     "text": [
      " welcome world\n"
     ]
    }
   ],
   "source": [
    "firstname=\"welcome\"\n",
    "lastname=\"world\"\n",
    "fullname=f\" {firstname} {lastname}\"\n",
    "print(fullname)"
   ]
  },
  {
   "cell_type": "code",
   "execution_count": 9,
   "metadata": {},
   "outputs": [
    {
     "name": "stdout",
     "output_type": "stream",
     "text": [
      " hello everyone\n"
     ]
    }
   ],
   "source": [
    "firstname='hello'\n",
    "lastname='everyone'\n",
    "fullname=f\" {firstname} {lastname}\"\n",
    "print(fullname)"
   ]
  },
  {
   "cell_type": "code",
   "execution_count": null,
   "metadata": {},
   "outputs": [],
   "source": [
    "#enhancement of the f strings"
   ]
  },
  {
   "cell_type": "code",
   "execution_count": 12,
   "metadata": {},
   "outputs": [
    {
     "name": "stdout",
     "output_type": "stream",
     "text": [
      " thanks for completing the work on time good job kavya tunki\n"
     ]
    }
   ],
   "source": [
    "first_name='kavya'\n",
    "lastname='tunki'\n",
    "message=f\" thanks for completing the work on time good job {first_name} {lastname}\"\n",
    "print(message)"
   ]
  },
  {
   "cell_type": "code",
   "execution_count": null,
   "metadata": {},
   "outputs": [],
   "source": [
    "#further enhancement of the f strings"
   ]
  },
  {
   "cell_type": "code",
   "execution_count": 14,
   "metadata": {},
   "outputs": [
    {
     "name": "stdout",
     "output_type": "stream",
     "text": [
      " do you work on time, Latha Tunki\n"
     ]
    }
   ],
   "source": [
    "first_name='latha'\n",
    "last_name='tunki'\n",
    "message=f\" do you work on time, {first_name.title()} {last_name.title()}\"\n",
    "print(message)"
   ]
  },
  {
   "cell_type": "code",
   "execution_count": null,
   "metadata": {},
   "outputs": [],
   "source": [
    "#adding white space to string"
   ]
  },
  {
   "cell_type": "code",
   "execution_count": 19,
   "metadata": {},
   "outputs": [
    {
     "name": "stdout",
     "output_type": "stream",
     "text": [
      " python \n",
      " python   c   c++ \n",
      " python\n",
      "   c\n",
      "   c++\n",
      " \n"
     ]
    }
   ],
   "source": [
    "print(' python ')\n",
    "print(' python ',' c ',' c++ ')"
   ]
  },
  {
   "cell_type": "code",
   "execution_count": 18,
   "metadata": {},
   "outputs": [
    {
     "name": "stdout",
     "output_type": "stream",
     "text": [
      " python\n",
      "   c\n",
      "   c++\n",
      " \n"
     ]
    }
   ],
   "source": [
    "print(' python\\n ',' c\\n ',' c++\\n ') #Adding a new line"
   ]
  },
  {
   "cell_type": "code",
   "execution_count": 21,
   "metadata": {},
   "outputs": [
    {
     "name": "stdout",
     "output_type": "stream",
     "text": [
      "\tpython\n"
     ]
    }
   ],
   "source": [
    "print('\\tpython') #Adding a tab delimiter"
   ]
  },
  {
   "cell_type": "code",
   "execution_count": 22,
   "metadata": {},
   "outputs": [
    {
     "name": "stdout",
     "output_type": "stream",
     "text": [
      "favouritelanguages: \t\n",
      "python \t\n",
      "c \t\n",
      "c++ \t\n",
      "java\n"
     ]
    }
   ],
   "source": [
    "print('favourite languages:','\\t\\npython','\\t\\nc','\\t\\nc++','\\t\\njava',)"
   ]
  },
  {
   "cell_type": "code",
   "execution_count": 24,
   "metadata": {},
   "outputs": [
    {
     "name": "stdout",
     "output_type": "stream",
     "text": [
      "favourite languages: \n",
      "\tpython \n",
      "\tc \n",
      "\tc++ \n",
      "\tjava\n"
     ]
    }
   ],
   "source": [
    "print('favourite languages:','\\n\\tpython','\\n\\tc','\\n\\tc++','\\n\\tjava',)"
   ]
  },
  {
   "cell_type": "code",
   "execution_count": null,
   "metadata": {},
   "outputs": [],
   "source": [
    "#removing a whire spaces from the string"
   ]
  },
  {
   "cell_type": "code",
   "execution_count": 27,
   "metadata": {},
   "outputs": [
    {
     "name": "stdout",
     "output_type": "stream",
     "text": [
      " python\n",
      "python\n"
     ]
    }
   ],
   "source": [
    "x=' python'\n",
    "print(x)\n",
    "print(x.lstrip())"
   ]
  },
  {
   "cell_type": "code",
   "execution_count": 31,
   "metadata": {},
   "outputs": [
    {
     "name": "stdout",
     "output_type": "stream",
     "text": [
      "python \n",
      "python\n"
     ]
    }
   ],
   "source": [
    "y='python '\n",
    "print(y)\n",
    "print(y.rstrip())"
   ]
  },
  {
   "cell_type": "code",
   "execution_count": 33,
   "metadata": {},
   "outputs": [
    {
     "name": "stdout",
     "output_type": "stream",
     "text": [
      " anaconda \n",
      "anaconda\n"
     ]
    }
   ],
   "source": [
    "z=' anaconda '\n",
    "print(z)\n",
    "print(z.strip())"
   ]
  },
  {
   "cell_type": "code",
   "execution_count": null,
   "metadata": {},
   "outputs": [],
   "source": []
  }
 ],
 "metadata": {
  "kernelspec": {
   "display_name": "Python 3",
   "language": "python",
   "name": "python3"
  },
  "language_info": {
   "codemirror_mode": {
    "name": "ipython",
    "version": 3
   },
   "file_extension": ".py",
   "mimetype": "text/x-python",
   "name": "python",
   "nbconvert_exporter": "python",
   "pygments_lexer": "ipython3",
   "version": "3.7.6"
  }
 },
 "nbformat": 4,
 "nbformat_minor": 4
}
